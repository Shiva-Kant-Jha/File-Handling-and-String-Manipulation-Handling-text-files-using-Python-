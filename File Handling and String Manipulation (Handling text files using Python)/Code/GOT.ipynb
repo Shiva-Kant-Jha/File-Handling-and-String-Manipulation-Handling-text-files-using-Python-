{
 "cells": [
  {
   "cell_type": "markdown",
   "id": "2f8c45bf",
   "metadata": {},
   "source": [
    "Find out the number of unique dialogue speakers in the sample conversation?\n"
   ]
  },
  {
   "cell_type": "code",
   "execution_count": 1,
   "id": "d8709af7",
   "metadata": {
    "scrolled": true
   },
   "outputs": [],
   "source": [
    "import pandas as pd"
   ]
  },
  {
   "cell_type": "code",
   "execution_count": 2,
   "id": "c9b62de8",
   "metadata": {},
   "outputs": [],
   "source": [
    "df = pd.read_csv(r'C:\\Users\\kantj\\OneDrive\\Desktop\\Internshala\\Python\\Project\\Python for DS- Project\\Project Document\\conv.txt', delimiter=':', header = None)"
   ]
  },
  {
   "cell_type": "code",
   "execution_count": 3,
   "id": "6fee807b",
   "metadata": {},
   "outputs": [],
   "source": [
    "df.rename(columns = {0:'Name',1:'Conv'}, inplace = True)"
   ]
  },
  {
   "cell_type": "code",
   "execution_count": 4,
   "id": "951b5e51",
   "metadata": {},
   "outputs": [
    {
     "data": {
      "text/html": [
       "<div>\n",
       "<style scoped>\n",
       "    .dataframe tbody tr th:only-of-type {\n",
       "        vertical-align: middle;\n",
       "    }\n",
       "\n",
       "    .dataframe tbody tr th {\n",
       "        vertical-align: top;\n",
       "    }\n",
       "\n",
       "    .dataframe thead th {\n",
       "        text-align: right;\n",
       "    }\n",
       "</style>\n",
       "<table border=\"1\" class=\"dataframe\">\n",
       "  <thead>\n",
       "    <tr style=\"text-align: right;\">\n",
       "      <th></th>\n",
       "      <th>Name</th>\n",
       "      <th>Conv</th>\n",
       "    </tr>\n",
       "  </thead>\n",
       "  <tbody>\n",
       "    <tr>\n",
       "      <th>0</th>\n",
       "      <td>WILL</td>\n",
       "      <td>I’ve never seen wildlings do a thing like thi...</td>\n",
       "    </tr>\n",
       "    <tr>\n",
       "      <th>1</th>\n",
       "      <td>WAYMAR ROYCE</td>\n",
       "      <td>How close did you get?</td>\n",
       "    </tr>\n",
       "    <tr>\n",
       "      <th>2</th>\n",
       "      <td>WILL</td>\n",
       "      <td>Close as any man would.</td>\n",
       "    </tr>\n",
       "    <tr>\n",
       "      <th>3</th>\n",
       "      <td>GARED</td>\n",
       "      <td>We should head back to the wall.</td>\n",
       "    </tr>\n",
       "    <tr>\n",
       "      <th>4</th>\n",
       "      <td>ROYCE</td>\n",
       "      <td>Do the dead frighten you?</td>\n",
       "    </tr>\n",
       "    <tr>\n",
       "      <th>...</th>\n",
       "      <td>...</td>\n",
       "      <td>...</td>\n",
       "    </tr>\n",
       "    <tr>\n",
       "      <th>106</th>\n",
       "      <td>NED</td>\n",
       "      <td>Tell me about Jon Arryn.</td>\n",
       "    </tr>\n",
       "    <tr>\n",
       "      <th>107</th>\n",
       "      <td>ROBERT</td>\n",
       "      <td>One minute he was fine, and then … Burned rig...</td>\n",
       "    </tr>\n",
       "    <tr>\n",
       "      <th>108</th>\n",
       "      <td>NED</td>\n",
       "      <td>We both did.</td>\n",
       "    </tr>\n",
       "    <tr>\n",
       "      <th>109</th>\n",
       "      <td>ROBERT</td>\n",
       "      <td>He never had to teach you much, but me … You ...</td>\n",
       "    </tr>\n",
       "    <tr>\n",
       "      <th>110</th>\n",
       "      <td>NED</td>\n",
       "      <td>Aye.</td>\n",
       "    </tr>\n",
       "  </tbody>\n",
       "</table>\n",
       "<p>111 rows × 2 columns</p>\n",
       "</div>"
      ],
      "text/plain": [
       "             Name                                               Conv\n",
       "0            WILL   I’ve never seen wildlings do a thing like thi...\n",
       "1    WAYMAR ROYCE                             How close did you get?\n",
       "2            WILL                            Close as any man would.\n",
       "3           GARED                   We should head back to the wall.\n",
       "4           ROYCE                          Do the dead frighten you?\n",
       "..            ...                                                ...\n",
       "106           NED                           Tell me about Jon Arryn.\n",
       "107        ROBERT   One minute he was fine, and then … Burned rig...\n",
       "108           NED                                       We both did.\n",
       "109        ROBERT   He never had to teach you much, but me … You ...\n",
       "110           NED                                               Aye.\n",
       "\n",
       "[111 rows x 2 columns]"
      ]
     },
     "execution_count": 4,
     "metadata": {},
     "output_type": "execute_result"
    }
   ],
   "source": [
    "df"
   ]
  },
  {
   "cell_type": "code",
   "execution_count": 5,
   "id": "be2ce6c5",
   "metadata": {},
   "outputs": [
    {
     "data": {
      "text/plain": [
       "17"
      ]
     },
     "execution_count": 5,
     "metadata": {},
     "output_type": "execute_result"
    }
   ],
   "source": [
    "len(df.Name.unique().tolist())"
   ]
  },
  {
   "cell_type": "markdown",
   "id": "2272956f",
   "metadata": {},
   "source": [
    "Create a new text file by the name of the dialogue speaker and store the unique words\n",
    "spoken by that character in the respective text file. Make sure there is only one word\n",
    "every line.\n"
   ]
  },
  {
   "cell_type": "code",
   "execution_count": 6,
   "id": "44e13106",
   "metadata": {},
   "outputs": [],
   "source": [
    "import nltk"
   ]
  },
  {
   "cell_type": "code",
   "execution_count": 7,
   "id": "6166fb94",
   "metadata": {},
   "outputs": [],
   "source": [
    "def preprocess_text(text):\n",
    "    lower_text = text.lower()\n",
    "    tokens = nltk.tokenize.word_tokenize(lower_text)\n",
    "    return tokens\n"
   ]
  },
  {
   "cell_type": "code",
   "execution_count": 8,
   "id": "7311b767",
   "metadata": {},
   "outputs": [],
   "source": [
    "for i in df.Name.unique():\n",
    "    i = df[df['Name'] == i]['Conv'].to_string()"
   ]
  },
  {
   "cell_type": "code",
   "execution_count": 9,
   "id": "e93cc1af",
   "metadata": {},
   "outputs": [],
   "source": [
    "tokenized_final = []\n",
    "\n",
    "for i in df.Name.unique():\n",
    "    \n",
    "    f= open(\"%s.txt\" % i,\"a+\")\n",
    "  \n",
    "    token = preprocess_text(df[df['Name'] == i]['Conv'].to_string())\n",
    "\n",
    "    tokenized_final.append(token) \n",
    "\n",
    "    flattened_tokenized_final = [i for j in tokenized_final for i in j]\n",
    "    \n",
    "    for words in flattened_tokenized_final:\n",
    "        f.write(\"%s\\n\" %words)\n",
    "    f.close()"
   ]
  },
  {
   "cell_type": "code",
   "execution_count": null,
   "id": "298c7263",
   "metadata": {},
   "outputs": [],
   "source": []
  }
 ],
 "metadata": {
  "kernelspec": {
   "display_name": "Python 3 (ipykernel)",
   "language": "python",
   "name": "python3"
  },
  "language_info": {
   "codemirror_mode": {
    "name": "ipython",
    "version": 3
   },
   "file_extension": ".py",
   "mimetype": "text/x-python",
   "name": "python",
   "nbconvert_exporter": "python",
   "pygments_lexer": "ipython3",
   "version": "3.9.13"
  }
 },
 "nbformat": 4,
 "nbformat_minor": 5
}
